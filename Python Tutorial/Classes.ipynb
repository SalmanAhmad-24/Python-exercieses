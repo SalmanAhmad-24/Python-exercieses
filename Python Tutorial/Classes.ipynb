{
 "cells": [
  {
   "cell_type": "markdown",
   "id": "65e08726",
   "metadata": {},
   "source": [
    "## Scopes and Namespaces "
   ]
  },
  {
   "cell_type": "code",
   "execution_count": 1,
   "id": "66a64321",
   "metadata": {},
   "outputs": [
    {
     "name": "stdout",
     "output_type": "stream",
     "text": [
      "After local assignment: test spam\n",
      "After nonlocal assignment: nonlocal spam\n",
      "After global assignment: nonlocal spam\n",
      "In global scope: global spam\n"
     ]
    }
   ],
   "source": [
    "#adde\n",
    "\n",
    "def scope_test():\n",
    "    def do_local():\n",
    "        spam = \"local spam\"\n",
    "\n",
    "    def do_nonlocal():\n",
    "        nonlocal spam\n",
    "        spam = \"nonlocal spam\"\n",
    "\n",
    "    def do_global():\n",
    "        global spam\n",
    "        spam = \"global spam\"\n",
    "\n",
    "    spam = \"test spam\"\n",
    "    do_local()\n",
    "    print(\"After local assignment:\", spam)\n",
    "    do_nonlocal()\n",
    "    print(\"After nonlocal assignment:\", spam)\n",
    "    do_global()\n",
    "    print(\"After global assignment:\", spam)\n",
    "\n",
    "scope_test()\n",
    "print(\"In global scope:\", spam)"
   ]
  },
  {
   "cell_type": "markdown",
   "id": "bc4add4a",
   "metadata": {},
   "source": [
    "## Class Objects"
   ]
  },
  {
   "cell_type": "code",
   "execution_count": 16,
   "id": "225d8086",
   "metadata": {},
   "outputs": [
    {
     "data": {
      "text/plain": [
       "12345"
      ]
     },
     "execution_count": 16,
     "metadata": {},
     "output_type": "execute_result"
    }
   ],
   "source": [
    "class MyClass:\n",
    "    \"\"\"A simple example class\"\"\"\n",
    "    i = 12345\n",
    "\n",
    "    def f(self):\n",
    "        return 'hello world'\n",
    "MyClass.i\n",
    "# returning an integer"
   ]
  },
  {
   "cell_type": "code",
   "execution_count": 17,
   "id": "bf6099b3",
   "metadata": {},
   "outputs": [
    {
     "data": {
      "text/plain": [
       "<function __main__.MyClass.f(self)>"
      ]
     },
     "execution_count": 17,
     "metadata": {},
     "output_type": "execute_result"
    }
   ],
   "source": [
    "MyClass.f\n",
    "# returning a class object"
   ]
  },
  {
   "cell_type": "code",
   "execution_count": 3,
   "id": "9b4fed61",
   "metadata": {},
   "outputs": [
    {
     "data": {
      "text/plain": [
       "'A simple example class'"
      ]
     },
     "execution_count": 3,
     "metadata": {},
     "output_type": "execute_result"
    }
   ],
   "source": [
    "MyClass.__doc__\n",
    "# returning a docstring"
   ]
  },
  {
   "cell_type": "code",
   "execution_count": 5,
   "id": "6ebae89e",
   "metadata": {},
   "outputs": [
    {
     "name": "stdout",
     "output_type": "stream",
     "text": [
      "Real part 3.0 Imaginary part -4.5\n"
     ]
    }
   ],
   "source": [
    "# when a class is instantiated the __init__ method automatically invokes\n",
    "class Complex:\n",
    "    def __init__(self,realpart,imagpart):\n",
    "        self.r=realpart\n",
    "        self.i=imagpart\n",
    "x=Complex(3.0,-4.5)\n",
    "print('Real part',x.r,'Imaginary part',x.i)  \n",
    "    "
   ]
  },
  {
   "cell_type": "markdown",
   "id": "7c4b0a3c",
   "metadata": {},
   "source": [
    "## Class and instance variable"
   ]
  },
  {
   "cell_type": "code",
   "execution_count": 18,
   "id": "e544f500",
   "metadata": {},
   "outputs": [
    {
     "data": {
      "text/plain": [
       "'laika'"
      ]
     },
     "execution_count": 18,
     "metadata": {},
     "output_type": "execute_result"
    }
   ],
   "source": [
    "# class varibales are shared by all instances\n",
    "# instance variables are unique to each instance\n",
    "\n",
    "class dog:\n",
    "    kind='labra' # class varibale\n",
    "    def __init__(self,name):\n",
    "        self.name=name # instance variable unique to each instance\n",
    "\n",
    "l=dog('laika')\n",
    "b=dog('bill')\n",
    "l.name"
   ]
  },
  {
   "cell_type": "code",
   "execution_count": 19,
   "id": "299b2fbf",
   "metadata": {},
   "outputs": [
    {
     "data": {
      "text/plain": [
       "'bill'"
      ]
     },
     "execution_count": 19,
     "metadata": {},
     "output_type": "execute_result"
    }
   ],
   "source": [
    "b.name"
   ]
  },
  {
   "cell_type": "code",
   "execution_count": 20,
   "id": "5cbdcfd8",
   "metadata": {},
   "outputs": [
    {
     "data": {
      "text/plain": [
       "'labra'"
      ]
     },
     "execution_count": 20,
     "metadata": {},
     "output_type": "execute_result"
    }
   ],
   "source": [
    "l.kind"
   ]
  },
  {
   "cell_type": "code",
   "execution_count": 21,
   "id": "b8331939",
   "metadata": {},
   "outputs": [
    {
     "data": {
      "text/plain": [
       "'labra'"
      ]
     },
     "execution_count": 21,
     "metadata": {},
     "output_type": "execute_result"
    }
   ],
   "source": [
    "b.kind"
   ]
  },
  {
   "cell_type": "code",
   "execution_count": 29,
   "id": "5f2b53c0",
   "metadata": {},
   "outputs": [
    {
     "data": {
      "text/plain": [
       "['roll over', 'play dead']"
      ]
     },
     "execution_count": 29,
     "metadata": {},
     "output_type": "execute_result"
    }
   ],
   "source": [
    "## mutable objects can not be used as class variables\n",
    "class Dog:\n",
    "    tricks=[]\n",
    "    def __init__(self,name):\n",
    "        self.name=name\n",
    "    def add_trick(self,trick):\n",
    "        self.tricks.append(trick)\n",
    "\n",
    "d = Dog('Fido')\n",
    "e = Dog('Buddy')\n",
    "d.add_trick('roll over')\n",
    "e.add_trick('play dead')\n",
    "d.tricks                # unexpectedly shared by all dogs\n",
    "['roll over', 'play dead']"
   ]
  },
  {
   "cell_type": "code",
   "execution_count": 42,
   "id": "d022f7c2",
   "metadata": {},
   "outputs": [],
   "source": [
    "class dog:\n",
    "    def __init__(self,name):\n",
    "        self.name=name\n",
    "        self.trickss = []\n",
    "    def add_trick(self,trick):\n",
    "        self.trickss.append(trick)\n",
    "dee = dog('Fido')\n",
    "ee = dog('Buddy')\n",
    "dee.add_trick('roll over')\n",
    "ee.add_trick('play dead')  "
   ]
  },
  {
   "cell_type": "code",
   "execution_count": 43,
   "id": "679d4450",
   "metadata": {},
   "outputs": [
    {
     "data": {
      "text/plain": [
       "['roll over']"
      ]
     },
     "execution_count": 43,
     "metadata": {},
     "output_type": "execute_result"
    }
   ],
   "source": [
    "dee.trickss"
   ]
  },
  {
   "cell_type": "code",
   "execution_count": 44,
   "id": "662bb81a",
   "metadata": {},
   "outputs": [
    {
     "data": {
      "text/plain": [
       "['play dead']"
      ]
     },
     "execution_count": 44,
     "metadata": {},
     "output_type": "execute_result"
    }
   ],
   "source": [
    "ee.trickss"
   ]
  },
  {
   "cell_type": "markdown",
   "id": "bf78dc01",
   "metadata": {},
   "source": [
    "## Private variables and Name Mangling"
   ]
  },
  {
   "cell_type": "code",
   "execution_count": 1,
   "id": "5316d7d5",
   "metadata": {},
   "outputs": [],
   "source": [
    "class Mapping:\n",
    "    def __init__(self, iterable):\n",
    "        self.items_list = []\n",
    "        self.__update(iterable)\n",
    "\n",
    "    def update(self, iterable):\n",
    "        for item in iterable:\n",
    "            self.items_list.append(item)\n",
    "\n",
    "    __update = update \n",
    "\n",
    "class MappingSubclass(Mapping):\n",
    "\n",
    "    def update(self, keys, values):\n",
    "        for item in zip(keys, values):\n",
    "            self.items_list.append(item)\n"
   ]
  },
  {
   "cell_type": "code",
   "execution_count": 6,
   "id": "2b05a81a",
   "metadata": {},
   "outputs": [
    {
     "data": {
      "text/plain": [
       "1000"
      ]
     },
     "execution_count": 6,
     "metadata": {},
     "output_type": "execute_result"
    }
   ],
   "source": [
    "class info:\n",
    "    def __init__(self,name,dept,sal):\n",
    "        self.name=name\n",
    "        self.dept=dept\n",
    "        self.sal=sal\n",
    "\n",
    "john=info('salmna','c lab',1000)\n",
    "john.sal"
   ]
  },
  {
   "cell_type": "markdown",
   "id": "693b80bf",
   "metadata": {},
   "source": [
    "## Iterators"
   ]
  },
  {
   "cell_type": "code",
   "execution_count": 7,
   "id": "ce67ba27",
   "metadata": {},
   "outputs": [],
   "source": [
    "class Reverse:\n",
    "    \"\"\"Iterator for looping over a sequence backwards.\"\"\"\n",
    "    def __init__(self, data):\n",
    "        self.data = data\n",
    "        self.index = len(data)\n",
    "\n",
    "    def __iter__(self):\n",
    "        return self\n",
    "\n",
    "    def __next__(self):\n",
    "        if self.index == 0:\n",
    "            raise StopIteration\n",
    "        self.index = self.index - 1\n",
    "        return self.data[self.index]"
   ]
  },
  {
   "cell_type": "code",
   "execution_count": 8,
   "id": "49567ffe",
   "metadata": {},
   "outputs": [
    {
     "name": "stdout",
     "output_type": "stream",
     "text": [
      "m\n",
      "a\n",
      "p\n",
      "s\n"
     ]
    }
   ],
   "source": [
    "rev = Reverse('spam')\n",
    "iter(rev)\n",
    "for char in rev:\n",
    "    print(char)"
   ]
  },
  {
   "cell_type": "markdown",
   "id": "5fe6d817",
   "metadata": {},
   "source": [
    "## Generators"
   ]
  },
  {
   "cell_type": "code",
   "execution_count": 19,
   "id": "9e364be6",
   "metadata": {},
   "outputs": [
    {
     "name": "stdout",
     "output_type": "stream",
     "text": [
      "f\n",
      "l\n",
      "o\n",
      "g\n"
     ]
    }
   ],
   "source": [
    "def reverse(data):\n",
    "    for index in range(len(data)-1, -1, -1):\n",
    "        yield data[index]\n",
    "for char in reverse('golf'):\n",
    "    print(char)"
   ]
  },
  {
   "cell_type": "markdown",
   "id": "1b549a43",
   "metadata": {},
   "source": [
    "## Generator expressions"
   ]
  },
  {
   "cell_type": "code",
   "execution_count": 20,
   "id": "a752fa23",
   "metadata": {},
   "outputs": [
    {
     "data": {
      "text/plain": [
       "285"
      ]
     },
     "execution_count": 20,
     "metadata": {},
     "output_type": "execute_result"
    }
   ],
   "source": [
    "sum(i*i for i in range(1,10))"
   ]
  },
  {
   "cell_type": "code",
   "execution_count": 21,
   "id": "b2cf3507",
   "metadata": {},
   "outputs": [
    {
     "data": {
      "text/plain": [
       "29"
      ]
     },
     "execution_count": 21,
     "metadata": {},
     "output_type": "execute_result"
    }
   ],
   "source": [
    "a=[1,2,4]\n",
    "b=[1,4,5]\n",
    "sum(x*y for x,y in zip(a,b))"
   ]
  },
  {
   "cell_type": "code",
   "execution_count": 23,
   "id": "d01232be",
   "metadata": {},
   "outputs": [
    {
     "data": {
      "text/plain": [
       "['n', 'a', 'm', 'l', 'a', 's']"
      ]
     },
     "execution_count": 23,
     "metadata": {},
     "output_type": "execute_result"
    }
   ],
   "source": [
    "# simple way to reverse a string\n",
    "data='salman'\n",
    "[data[i] for i in range(len(data)-1,-1,-1)]"
   ]
  },
  {
   "cell_type": "code",
   "execution_count": null,
   "id": "f3f48af5",
   "metadata": {},
   "outputs": [],
   "source": []
  }
 ],
 "metadata": {
  "kernelspec": {
   "display_name": "Python 3 (ipykernel)",
   "language": "python",
   "name": "python3"
  },
  "language_info": {
   "codemirror_mode": {
    "name": "ipython",
    "version": 3
   },
   "file_extension": ".py",
   "mimetype": "text/x-python",
   "name": "python",
   "nbconvert_exporter": "python",
   "pygments_lexer": "ipython3",
   "version": "3.10.5"
  }
 },
 "nbformat": 4,
 "nbformat_minor": 5
}
